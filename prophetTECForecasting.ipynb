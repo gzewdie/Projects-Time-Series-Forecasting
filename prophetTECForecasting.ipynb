{
 "cells": [
  {
   "cell_type": "markdown",
   "metadata": {},
   "source": [
    "# Prophet Time Serioes Forecasting"
   ]
  },
  {
   "cell_type": "markdown",
   "metadata": {},
   "source": [
    "In this project, we the facebook's time series forecasting method to predict the Total Electron Content <font color ='red'>72 hours</font> ahead of time. The Total Electron Content (TEC) is a quantity reperenting the amount of free electrons present in the upper atmosphere (also called ionosphere). The predictors (regressors) we used include:\n",
    " - Electron density (nmf2)\n",
    " - Solar wind speed (swspeed)\n",
    " - F10.7 solar flux (F10.7)\n",
    " - Solar disturbanace index (Dst)\n",
    " - AP index, AE index \n",
    " - KP index, AL index\n",
    " - AU index\n",
    "  "
   ]
  },
  {
   "cell_type": "code",
   "execution_count": 1,
   "metadata": {},
   "outputs": [],
   "source": [
    "#import libraries\n",
    "import numpy as np\n",
    "import pandas as pd\n",
    "import matplotlib.pyplot as plt \n",
    "\n",
    "%matplotlib inline\n",
    "import warnings \n",
    "\n",
    "from fbprophet import Prophet\n",
    "\n",
    "from sklearn.metrics import mean_squared_error\n",
    "from sklearn.metrics import mean_absolute_error\n",
    "\n",
    "warnings.filterwarnings(\"ignore\")"
   ]
  },
  {
   "cell_type": "code",
   "execution_count": 2,
   "metadata": {},
   "outputs": [],
   "source": [
    "data_All=pd.read_csv(r\"dateTECHMF2NMF8499New.csv\")"
   ]
  },
  {
   "cell_type": "code",
   "execution_count": 3,
   "metadata": {},
   "outputs": [
    {
     "data": {
      "text/html": [
       "<div>\n",
       "<style scoped>\n",
       "    .dataframe tbody tr th:only-of-type {\n",
       "        vertical-align: middle;\n",
       "    }\n",
       "\n",
       "    .dataframe tbody tr th {\n",
       "        vertical-align: top;\n",
       "    }\n",
       "\n",
       "    .dataframe thead th {\n",
       "        text-align: right;\n",
       "    }\n",
       "</style>\n",
       "<table border=\"1\" class=\"dataframe\">\n",
       "  <thead>\n",
       "    <tr style=\"text-align: right;\">\n",
       "      <th></th>\n",
       "      <th>year</th>\n",
       "      <th>month</th>\n",
       "      <th>day</th>\n",
       "      <th>hour</th>\n",
       "      <th>Scalar B, nT</th>\n",
       "      <th>SW Plasma Speed, km/s</th>\n",
       "      <th>Kp index</th>\n",
       "      <th>Dst-index, nT</th>\n",
       "      <th>ap_index, nT</th>\n",
       "      <th>f10.7_index</th>\n",
       "      <th>AE-index, nT</th>\n",
       "      <th>AL-index, nT</th>\n",
       "      <th>AU-index, nT</th>\n",
       "      <th>pixelTEC</th>\n",
       "      <th>pixelhmf2</th>\n",
       "      <th>pixelnmf2</th>\n",
       "    </tr>\n",
       "  </thead>\n",
       "  <tbody>\n",
       "    <tr>\n",
       "      <th>0</th>\n",
       "      <td>2014</td>\n",
       "      <td>1</td>\n",
       "      <td>1</td>\n",
       "      <td>0</td>\n",
       "      <td>4.8</td>\n",
       "      <td>399.0</td>\n",
       "      <td>7</td>\n",
       "      <td>4</td>\n",
       "      <td>3</td>\n",
       "      <td>154.3</td>\n",
       "      <td>25.0</td>\n",
       "      <td>-15.0</td>\n",
       "      <td>10.0</td>\n",
       "      <td>2.043829</td>\n",
       "      <td>320.04242</td>\n",
       "      <td>0.706727</td>\n",
       "    </tr>\n",
       "    <tr>\n",
       "      <th>1</th>\n",
       "      <td>2014</td>\n",
       "      <td>1</td>\n",
       "      <td>1</td>\n",
       "      <td>1</td>\n",
       "      <td>5.0</td>\n",
       "      <td>395.0</td>\n",
       "      <td>7</td>\n",
       "      <td>3</td>\n",
       "      <td>3</td>\n",
       "      <td>154.3</td>\n",
       "      <td>36.0</td>\n",
       "      <td>-25.0</td>\n",
       "      <td>11.0</td>\n",
       "      <td>1.613015</td>\n",
       "      <td>318.61392</td>\n",
       "      <td>0.568964</td>\n",
       "    </tr>\n",
       "    <tr>\n",
       "      <th>2</th>\n",
       "      <td>2014</td>\n",
       "      <td>1</td>\n",
       "      <td>1</td>\n",
       "      <td>2</td>\n",
       "      <td>5.5</td>\n",
       "      <td>386.0</td>\n",
       "      <td>7</td>\n",
       "      <td>1</td>\n",
       "      <td>3</td>\n",
       "      <td>154.3</td>\n",
       "      <td>33.0</td>\n",
       "      <td>-12.0</td>\n",
       "      <td>21.0</td>\n",
       "      <td>1.253108</td>\n",
       "      <td>324.48035</td>\n",
       "      <td>0.445705</td>\n",
       "    </tr>\n",
       "    <tr>\n",
       "      <th>3</th>\n",
       "      <td>2014</td>\n",
       "      <td>1</td>\n",
       "      <td>1</td>\n",
       "      <td>3</td>\n",
       "      <td>5.5</td>\n",
       "      <td>376.0</td>\n",
       "      <td>13</td>\n",
       "      <td>1</td>\n",
       "      <td>5</td>\n",
       "      <td>154.3</td>\n",
       "      <td>57.0</td>\n",
       "      <td>-18.0</td>\n",
       "      <td>40.0</td>\n",
       "      <td>1.265832</td>\n",
       "      <td>328.55225</td>\n",
       "      <td>0.447220</td>\n",
       "    </tr>\n",
       "    <tr>\n",
       "      <th>4</th>\n",
       "      <td>2014</td>\n",
       "      <td>1</td>\n",
       "      <td>1</td>\n",
       "      <td>4</td>\n",
       "      <td>6.2</td>\n",
       "      <td>372.0</td>\n",
       "      <td>13</td>\n",
       "      <td>-1</td>\n",
       "      <td>5</td>\n",
       "      <td>154.3</td>\n",
       "      <td>112.0</td>\n",
       "      <td>-35.0</td>\n",
       "      <td>77.0</td>\n",
       "      <td>1.192057</td>\n",
       "      <td>333.63202</td>\n",
       "      <td>0.413962</td>\n",
       "    </tr>\n",
       "  </tbody>\n",
       "</table>\n",
       "</div>"
      ],
      "text/plain": [
       "   year  month  day  hour  Scalar B, nT  SW Plasma Speed, km/s  Kp index  \\\n",
       "0  2014      1    1     0           4.8                  399.0         7   \n",
       "1  2014      1    1     1           5.0                  395.0         7   \n",
       "2  2014      1    1     2           5.5                  386.0         7   \n",
       "3  2014      1    1     3           5.5                  376.0        13   \n",
       "4  2014      1    1     4           6.2                  372.0        13   \n",
       "\n",
       "   Dst-index, nT  ap_index, nT  f10.7_index  AE-index, nT  AL-index, nT  \\\n",
       "0              4             3        154.3          25.0         -15.0   \n",
       "1              3             3        154.3          36.0         -25.0   \n",
       "2              1             3        154.3          33.0         -12.0   \n",
       "3              1             5        154.3          57.0         -18.0   \n",
       "4             -1             5        154.3         112.0         -35.0   \n",
       "\n",
       "   AU-index, nT  pixelTEC  pixelhmf2  pixelnmf2  \n",
       "0          10.0  2.043829  320.04242   0.706727  \n",
       "1          11.0  1.613015  318.61392   0.568964  \n",
       "2          21.0  1.253108  324.48035   0.445705  \n",
       "3          40.0  1.265832  328.55225   0.447220  \n",
       "4          77.0  1.192057  333.63202   0.413962  "
      ]
     },
     "execution_count": 3,
     "metadata": {},
     "output_type": "execute_result"
    }
   ],
   "source": [
    "data_All.head()"
   ]
  },
  {
   "cell_type": "code",
   "execution_count": 4,
   "metadata": {},
   "outputs": [],
   "source": [
    "date_All=data_All[['year','month','day','hour']]"
   ]
  },
  {
   "cell_type": "code",
   "execution_count": 5,
   "metadata": {},
   "outputs": [],
   "source": [
    "dattime_a=pd.to_datetime(date_All)"
   ]
  },
  {
   "cell_type": "code",
   "execution_count": 6,
   "metadata": {},
   "outputs": [],
   "source": [
    "date_new=pd.read_csv('dateTimeHourly.csv')"
   ]
  },
  {
   "cell_type": "code",
   "execution_count": 7,
   "metadata": {},
   "outputs": [],
   "source": [
    "date_AllNew=date_new[['year','month','day','hour']]"
   ]
  },
  {
   "cell_type": "code",
   "execution_count": 8,
   "metadata": {},
   "outputs": [],
   "source": [
    "data_All[\"ds\"]=pd.to_datetime(date_All,format='%d%b%Y%H:%M')"
   ]
  },
  {
   "cell_type": "code",
   "execution_count": 9,
   "metadata": {},
   "outputs": [],
   "source": [
    "df_TEC=data_All[['ds','pixelTEC','pixelnmf2','pixelhmf2','SW Plasma Speed, km/s','f10.7_index','Dst-index, nT','Kp index',\n",
    "                 'ap_index, nT', 'AE-index, nT', 'AL-index, nT', 'AU-index, nT']]"
   ]
  },
  {
   "cell_type": "code",
   "execution_count": 10,
   "metadata": {},
   "outputs": [
    {
     "data": {
      "text/plain": [
       "Index(['year', 'month', 'day', 'hour', 'Scalar B, nT', 'SW Plasma Speed, km/s',\n",
       "       'Kp index', 'Dst-index, nT', 'ap_index, nT', 'f10.7_index',\n",
       "       'AE-index, nT', 'AL-index, nT', 'AU-index, nT', 'pixelTEC', 'pixelhmf2',\n",
       "       'pixelnmf2', 'ds'],\n",
       "      dtype='object')"
      ]
     },
     "execution_count": 10,
     "metadata": {},
     "output_type": "execute_result"
    }
   ],
   "source": [
    "data_All.columns"
   ]
  },
  {
   "cell_type": "code",
   "execution_count": 11,
   "metadata": {},
   "outputs": [],
   "source": [
    "df_TEC.columns=[\"ds\",\"y\",\"nmf2\",\"hmf2\",\"SWspeed\",\"F10.7\",\"Dst\",\"AP_i\",\"KP_i\",\"AE_i\",\"AL_i\",\"AU_i\"]"
   ]
  },
  {
   "cell_type": "code",
   "execution_count": 12,
   "metadata": {},
   "outputs": [
    {
     "data": {
      "text/html": [
       "<div>\n",
       "<style scoped>\n",
       "    .dataframe tbody tr th:only-of-type {\n",
       "        vertical-align: middle;\n",
       "    }\n",
       "\n",
       "    .dataframe tbody tr th {\n",
       "        vertical-align: top;\n",
       "    }\n",
       "\n",
       "    .dataframe thead th {\n",
       "        text-align: right;\n",
       "    }\n",
       "</style>\n",
       "<table border=\"1\" class=\"dataframe\">\n",
       "  <thead>\n",
       "    <tr style=\"text-align: right;\">\n",
       "      <th></th>\n",
       "      <th>ds</th>\n",
       "      <th>y</th>\n",
       "      <th>nmf2</th>\n",
       "      <th>hmf2</th>\n",
       "      <th>SWspeed</th>\n",
       "      <th>F10.7</th>\n",
       "      <th>Dst</th>\n",
       "      <th>AP_i</th>\n",
       "      <th>KP_i</th>\n",
       "      <th>AE_i</th>\n",
       "      <th>AL_i</th>\n",
       "      <th>AU_i</th>\n",
       "    </tr>\n",
       "  </thead>\n",
       "  <tbody>\n",
       "    <tr>\n",
       "      <th>0</th>\n",
       "      <td>2014-01-01 00:00:00</td>\n",
       "      <td>2.043829</td>\n",
       "      <td>0.706727</td>\n",
       "      <td>320.04242</td>\n",
       "      <td>399.0</td>\n",
       "      <td>154.3</td>\n",
       "      <td>4</td>\n",
       "      <td>7</td>\n",
       "      <td>3</td>\n",
       "      <td>25.0</td>\n",
       "      <td>-15.0</td>\n",
       "      <td>10.0</td>\n",
       "    </tr>\n",
       "    <tr>\n",
       "      <th>1</th>\n",
       "      <td>2014-01-01 01:00:00</td>\n",
       "      <td>1.613015</td>\n",
       "      <td>0.568964</td>\n",
       "      <td>318.61392</td>\n",
       "      <td>395.0</td>\n",
       "      <td>154.3</td>\n",
       "      <td>3</td>\n",
       "      <td>7</td>\n",
       "      <td>3</td>\n",
       "      <td>36.0</td>\n",
       "      <td>-25.0</td>\n",
       "      <td>11.0</td>\n",
       "    </tr>\n",
       "    <tr>\n",
       "      <th>2</th>\n",
       "      <td>2014-01-01 02:00:00</td>\n",
       "      <td>1.253108</td>\n",
       "      <td>0.445705</td>\n",
       "      <td>324.48035</td>\n",
       "      <td>386.0</td>\n",
       "      <td>154.3</td>\n",
       "      <td>1</td>\n",
       "      <td>7</td>\n",
       "      <td>3</td>\n",
       "      <td>33.0</td>\n",
       "      <td>-12.0</td>\n",
       "      <td>21.0</td>\n",
       "    </tr>\n",
       "    <tr>\n",
       "      <th>3</th>\n",
       "      <td>2014-01-01 03:00:00</td>\n",
       "      <td>1.265832</td>\n",
       "      <td>0.447220</td>\n",
       "      <td>328.55225</td>\n",
       "      <td>376.0</td>\n",
       "      <td>154.3</td>\n",
       "      <td>1</td>\n",
       "      <td>13</td>\n",
       "      <td>5</td>\n",
       "      <td>57.0</td>\n",
       "      <td>-18.0</td>\n",
       "      <td>40.0</td>\n",
       "    </tr>\n",
       "    <tr>\n",
       "      <th>4</th>\n",
       "      <td>2014-01-01 04:00:00</td>\n",
       "      <td>1.192057</td>\n",
       "      <td>0.413962</td>\n",
       "      <td>333.63202</td>\n",
       "      <td>372.0</td>\n",
       "      <td>154.3</td>\n",
       "      <td>-1</td>\n",
       "      <td>13</td>\n",
       "      <td>5</td>\n",
       "      <td>112.0</td>\n",
       "      <td>-35.0</td>\n",
       "      <td>77.0</td>\n",
       "    </tr>\n",
       "  </tbody>\n",
       "</table>\n",
       "</div>"
      ],
      "text/plain": [
       "                   ds         y      nmf2       hmf2  SWspeed  F10.7  Dst  \\\n",
       "0 2014-01-01 00:00:00  2.043829  0.706727  320.04242    399.0  154.3    4   \n",
       "1 2014-01-01 01:00:00  1.613015  0.568964  318.61392    395.0  154.3    3   \n",
       "2 2014-01-01 02:00:00  1.253108  0.445705  324.48035    386.0  154.3    1   \n",
       "3 2014-01-01 03:00:00  1.265832  0.447220  328.55225    376.0  154.3    1   \n",
       "4 2014-01-01 04:00:00  1.192057  0.413962  333.63202    372.0  154.3   -1   \n",
       "\n",
       "   AP_i  KP_i   AE_i  AL_i  AU_i  \n",
       "0     7     3   25.0 -15.0  10.0  \n",
       "1     7     3   36.0 -25.0  11.0  \n",
       "2     7     3   33.0 -12.0  21.0  \n",
       "3    13     5   57.0 -18.0  40.0  \n",
       "4    13     5  112.0 -35.0  77.0  "
      ]
     },
     "execution_count": 12,
     "metadata": {},
     "output_type": "execute_result"
    }
   ],
   "source": [
    "df_TEC.head()"
   ]
  },
  {
   "cell_type": "code",
   "execution_count": 13,
   "metadata": {},
   "outputs": [],
   "source": [
    "substractMean=0\n",
    "\n",
    "#This function is to see the effect of removing the diurnbal variation from the TEC on the prophet forecasting,  \n",
    "#set subssubstractMean=1 to remove diurnal variation\n",
    "\n",
    "if substractMean==1:\n",
    "    def subDailyMin(TECandNEdata,meanWindow):\n",
    "        newTECNE=np.array([])\n",
    "        meanTEC=[]\n",
    "        for ii in range(0,len(TECandNEdata),meanWindow):\n",
    "            firstSegment=TECandNEdata[ii:(ii+meanWindow),0]\n",
    "            ii_mean=np.min(firstSegment)\n",
    "            newdata=firstSegment-ii_mean\n",
    "            newTECNE=np.concatenate([newTECNE,newdata])\n",
    "            meanTEC.append(ii_mean)\n",
    "        return newTECNE.reshape(-1,1),meanTEC\n",
    "    \n",
    "    newTEC,meanTEC=subDailyMin(df_TEC['y'].values.reshape(-1,1),24)\n",
    "    plt.figure(figsize=(16,8))\n",
    "    plt.plot(df_TEC['y'][0:500],'r')\n",
    "    plt.plot(newTEC[0:500])\n",
    "    df_TEC['newTEC']=pd.DataFrame(data=newTEC,columns=['minSubTEc'])\n",
    "    df_TEC=df_TEC.drop('y',1)\n",
    "    df_TEC.columns=[\"ds\",\"y\"]\n",
    "    \n",
    "    plt.figure(figsize=(16,8))\n",
    "    plt.plot(df_TEC['y'])\n",
    "    plt.title('Min substracted TEC')"
   ]
  },
  {
   "cell_type": "code",
   "execution_count": 14,
   "metadata": {},
   "outputs": [
    {
     "data": {
      "text/plain": [
       "Text(0.5, 0, 'Time in hours, starting from  Jan 01, at 00 hour')"
      ]
     },
     "execution_count": 14,
     "metadata": {},
     "output_type": "execute_result"
    },
    {
     "data": {
      "image/png": "[encoded data removed]",
      "text/plain": [
       "<Figure size 1152x576 with 1 Axes>"
      ]
     },
     "metadata": {
      "needs_background": "light"
     },
     "output_type": "display_data"
    }
   ],
   "source": [
    "#plot the entire TEC\n",
    "plt.figure(figsize=(16,8))\n",
    "plt.plot(data_All['pixelTEC'], 'r')\n",
    "plt.ylabel('TEC')\n",
    "plt.title('Original TEC')\n",
    "plt.xlabel('Time in hours, starting from  Jan 01, at 00 hour')"
   ]
  },
  {
   "cell_type": "code",
   "execution_count": 15,
   "metadata": {},
   "outputs": [
    {
     "data": {
      "text/plain": [
       "(15264, 12)"
      ]
     },
     "execution_count": 15,
     "metadata": {},
     "output_type": "execute_result"
    }
   ],
   "source": [
    "df_TEC.shape"
   ]
  },
  {
   "cell_type": "code",
   "execution_count": 16,
   "metadata": {},
   "outputs": [],
   "source": [
    "df_Train=df_TEC[:15191]\n",
    "df_Test=df_TEC[15191:]"
   ]
  },
  {
   "cell_type": "code",
   "execution_count": 17,
   "metadata": {},
   "outputs": [],
   "source": [
    "model=Prophet(yearly_seasonality=True,\n",
    "              weekly_seasonality=False,\n",
    "              daily_seasonality=False).add_seasonality(name=\"daily\",\n",
    "                                                             period=6,\n",
    "                                                             fourier_order=24)"
   ]
  },
  {
   "cell_type": "code",
   "execution_count": 18,
   "metadata": {},
   "outputs": [
    {
     "data": {
      "text/plain": [
       "<fbprophet.forecaster.Prophet at 0x7f385f3bde10>"
      ]
     },
     "execution_count": 18,
     "metadata": {},
     "output_type": "execute_result"
    }
   ],
   "source": [
    "model.add_regressor(\"nmf2\")\n",
    "model.add_regressor(\"hmf2\")\n",
    "model.add_regressor(\"SWspeed\")\n",
    "model.add_regressor(\"F10.7\")\n",
    "model.add_regressor(\"Dst\")\n",
    "model.add_regressor(\"AP_i\")\n",
    "model.add_regressor(\"AE_i\")\n",
    "model.add_regressor(\"KP_i\")\n",
    "model.add_regressor(\"AL_i\")\n",
    "model.add_regressor(\"AU_i\")"
   ]
  },
  {
   "cell_type": "code",
   "execution_count": null,
   "metadata": {},
   "outputs": [],
   "source": [
    "model.fit(df_Train)"
   ]
  },
  {
   "cell_type": "code",
   "execution_count": null,
   "metadata": {},
   "outputs": [],
   "source": [
    "future=model.make_future_dataframe(freq='H',periods=72)"
   ]
  },
  {
   "cell_type": "code",
   "execution_count": null,
   "metadata": {},
   "outputs": [],
   "source": [
    "#Add regressors\n",
    "future['nmf2']=df_TEC['nmf2']\n",
    "future['hmf2']=df_TEC['hmf2']\n",
    "future['SWspeed']=df_TEC['SWspeed']\n",
    "future['F10.7']=df_TEC['F10.7']\n",
    "future['Dst']=df_TEC['Dst']\n",
    "future[\"AP_i\"]=df_TEC[\"AP_i\"]\n",
    "future[\"AE_i\"]=df_TEC[\"AE_i\"]\n",
    "future[\"KP_i\"]=df_TEC[\"KP_i\"]\n",
    "future[\"AL_i\"]=df_TEC[\"AL_i\"]\n",
    "future[\"AU_i\"]=df_TEC[\"AU_i\"]"
   ]
  },
  {
   "cell_type": "code",
   "execution_count": null,
   "metadata": {},
   "outputs": [],
   "source": [
    "future.head()"
   ]
  },
  {
   "cell_type": "code",
   "execution_count": null,
   "metadata": {},
   "outputs": [],
   "source": [
    "future.tail()"
   ]
  },
  {
   "cell_type": "code",
   "execution_count": null,
   "metadata": {},
   "outputs": [],
   "source": [
    "future.shape"
   ]
  },
  {
   "cell_type": "code",
   "execution_count": null,
   "metadata": {},
   "outputs": [],
   "source": [
    "pred=model.predict(future)"
   ]
  },
  {
   "cell_type": "code",
   "execution_count": null,
   "metadata": {},
   "outputs": [],
   "source": [
    "fig=model.plot(pred)"
   ]
  },
  {
   "cell_type": "code",
   "execution_count": null,
   "metadata": {},
   "outputs": [],
   "source": [
    "#Plot the first 500 training instances and forecasts\n",
    "xticks=future[0:500]['ds'].values[0]\n",
    "plt.figure(figsize=(16,8))\n",
    "plt.plot(pred['yhat'][0:500],'r')\n",
    "plt.plot(df_TEC['y'][0:500],'k')\n",
    "plt.xlabel('Time (hours)')\n",
    "plt.title('Prohet forecasted SAMI3 TEC, RMSE')\n",
    "plt.rcParams.update({'font.size': 16,'lines.linewidth':1.5})"
   ]
  },
  {
   "cell_type": "code",
   "execution_count": null,
   "metadata": {},
   "outputs": [],
   "source": [
    "from fbprophet.plot import add_changepoints_to_plot\n",
    "fig = model.plot(pred)\n",
    "a = add_changepoints_to_plot(fig.gca(), model,pred)\n"
   ]
  },
  {
   "cell_type": "code",
   "execution_count": null,
   "metadata": {},
   "outputs": [],
   "source": [
    "#plot the last 72 hour actual and forecast\n",
    "i_corr = np.corrcoef(pred['yhat'][15191:], df_Test['y'][0:72])\n",
    "plt.figure(figsize=(16,8))\n",
    "plt.plot(pred['yhat'][15191:].values,'-.r',label='forecast')\n",
    "plt.plot(df_Test['y'][0:72].values,'-.k',label='actual')\n",
    "plt.title('Prophet forecasted SAMI3 TEC:  regressors added, Correlation: {}'.format(round(i_corr[0,1],2)))\n",
    "plt.legend()\n",
    "plt.rcParams.update({'font.size': 16,'lines.linewidth':1.5})\n",
    "plt.savefig('HMF2ForecastALLAdded.png',format='png')"
   ]
  },
  {
   "cell_type": "markdown",
   "metadata": {},
   "source": [
    "Conclusion, we clearly see that the the 72 hour in advance forecast of the TEC is produced with high accuracy of (correlation coefficient 0.99)."
   ]
  }
 ],
 "metadata": {
  "kernelspec": {
   "display_name": "Python 3",
   "language": "python",
   "name": "python3"
  },
  "language_info": {
   "codemirror_mode": {
    "name": "ipython",
    "version": 3
   },
   "file_extension": ".py",
   "mimetype": "text/x-python",
   "name": "python",
   "nbconvert_exporter": "python",
   "pygments_lexer": "ipython3",
   "version": "3.7.7"
  }
 },
 "nbformat": 4,
 "nbformat_minor": 4
}
